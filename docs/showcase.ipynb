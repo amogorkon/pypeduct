{
 "cells": [
  {
   "cell_type": "markdown",
   "metadata": {},
   "source": [
    "# How to Use PPeduct\n",
    "\n",
    "## Introduction\n",
    "\n",
    "Welcome to the PyPeduct how-to guide. This document will help you get started with PyPeduct, a Python library for data transformation and manipulation."
   ]
  },
  {
   "cell_type": "markdown",
   "metadata": {},
   "source": [
    "## Installation\n",
    "\n",
    "To install PyPeduct, you can use pip:"
   ]
  },
  {
   "cell_type": "code",
   "execution_count": null,
   "metadata": {},
   "outputs": [],
   "source": [
    "!pip install pypeduct"
   ]
  },
  {
   "cell_type": "markdown",
   "metadata": {},
   "source": [
    "## Usage\n",
    "\n",
    "### Importing the Library\n",
    "\n",
    "To use PyPeduct, you first need to import it:"
   ]
  },
  {
   "cell_type": "code",
   "execution_count": null,
   "metadata": {},
   "outputs": [],
   "source": [
    "import pypeduct"
   ]
  },
  {
   "cell_type": "markdown",
   "metadata": {},
   "source": [
    "### Basic Example\n",
    "\n",
    "Here is a basic example of how to use PyPeduct:"
   ]
  },
  {
   "cell_type": "code",
   "execution_count": null,
   "metadata": {},
   "outputs": [],
   "source": [
    "from pypeduct import Transformer\n",
    "\n",
    "# Create a transformer instance\n",
    "transformer = Transformer()\n",
    "\n",
    "# Define a simple transformation\n",
    "transformer.add_step(lambda x: x * 2)\n",
    "\n",
    "# Apply the transformation\n",
    "result = transformer.transform([1, 2, 3, 4])\n",
    "print(result)  # Output: [2, 4, 6, 8]"
   ]
  },
  {
   "cell_type": "markdown",
   "metadata": {},
   "source": [
    "## Examples\n",
    "\n",
    "### Example 1: No Pipes"
   ]
  },
  {
   "cell_type": "code",
   "execution_count": null,
   "metadata": {},
   "outputs": [],
   "source": [
    "from pypeduct import pyped\n",
    "transformer.add_step(lambda x: x.strip())\n",
    "transformer.add_step(lambda x: x.lower())\n",
    "\n",
    "# Apply the transformation\n",
    "result = transformer.transform(['  Hello ', 'WORLD  '])\n",
    "print(result)  # Output: ['hello', 'world']"
   ]
  },
  {
   "cell_type": "markdown",
   "metadata": {},
   "source": [
    "### Example 2: External Function"
   ]
  },
  {
   "cell_type": "code",
   "execution_count": null,
   "metadata": {},
   "outputs": [],
   "source": [
    "from pypeduct import pyped\n",
    "\n",
    "# Define a data aggregation transformation\n",
    "transformer.add_step(lambda x: sum(x))\n",
    "\n",
    "# Apply the transformation\n",
    "result = transformer.transform([[1, 2, 3], [4, 5, 6]])\n",
    "print(result)  # Output: [6, 15]"
   ]
  },
  {
   "cell_type": "markdown",
   "metadata": {},
   "source": [
    "### Example 3: Built-in Function"
   ]
  },
  {
   "cell_type": "code",
   "execution_count": null,
   "metadata": {},
   "outputs": [],
   "source": [
    "from pypeduct import pyped\n",
    "\n",
    "@pyped\n",
    "def compute_length():\n",
    "    return [1, 2, 3] >> len\n",
    "\n",
    "print(compute_length())  # Output: 3"
   ]
  },
  {
   "cell_type": "markdown",
   "metadata": {},
   "source": [
    "### Example 4: Simple Difference"
   ]
  },
  {
   "cell_type": "code",
   "execution_count": null,
   "metadata": {},
   "outputs": [],
   "source": [
    "from pypeduct import pyped\n",
    "\n",
    "@pyped\n",
    "def compute_difference():\n",
    "    return 3 >> (lambda x: x - 1)\n",
    "\n",
    "print(compute_difference())  # Output: 2"
   ]
  },
  {
   "cell_type": "markdown",
   "metadata": {},
   "source": [
    "### Example 5: Recursive Function"
   ]
  },
  {
   "cell_type": "code",
   "execution_count": null,
   "metadata": {},
   "outputs": [],
   "source": [
    "from pypeduct import pyped\n",
    "\n",
    "@pyped\n",
    "def recursive_pipeline(n):\n",
    "    if n <= 0:\n",
    "        return 0 >> (lambda x: x)\n",
    "    else:\n",
    "        return n >> (lambda x: x + recursive_pipeline(n - 1))\n",
    "\n",
    "print(recursive_pipeline(5))  # Output: 15"
   ]
  },
  {
   "cell_type": "markdown",
   "metadata": {},
   "source": [
    "### Example 6: Function with Default Arguments"
   ]
  },
  {
   "cell_type": "code",
   "execution_count": null,
   "metadata": {},
   "outputs": [],
   "source": [
    "from pypeduct import pyped\n",
    "\n",
    "@pyped\n",
    "def compute():\n",
    "    def add_numbers(x, y=10, z=5):\n",
    "        return x + y + z\n",
    "\n",
    "    return 5 >> add_numbers\n",
    "\n",
    "print(compute())  # Output: 20"
   ]
  },
  {
   "cell_type": "markdown",
   "metadata": {},
   "source": [
    "### Example 7: Function with Keyword-Only Arguments"
   ]
  },
  {
   "cell_type": "code",
   "execution_count": null,
   "metadata": {},
   "outputs": [],
   "source": [
    "from pypeduct import pyped\n",
    "\n",
    "@pyped\n",
    "def process_data():\n",
    "    def transform(data, *, scale=1):\n",
    "        return [x * scale for x in data]\n",
    "\n",
    "    return [1, 2, 3] >> transform\n",
    "\n",
    "print(process_data())  # Output: [1, 2, 3]"
   ]
  },
  {
   "cell_type": "markdown",
   "metadata": {},
   "source": [
    "### Example 8: Basic Pipe"
   ]
  },
  {
   "cell_type": "code",
   "execution_count": null,
   "metadata": {},
   "outputs": [],
   "source": [
    "from pypeduct import pyped\n",
    "\n",
    "@pyped\n",
    "def basic_pipe() -> list[str]:\n",
    "    result: list[str] = 5 >> str >> list\n",
    "    return result\n",
    "\n",
    "print(basic_pipe())  # Output: [\"5\"]"
   ]
  },
  {
   "cell_type": "markdown",
   "metadata": {},
   "source": [
    "### Example 9: Pipe with User-Defined Function Reference"
   ]
  },
  {
   "cell_type": "code",
   "execution_count": null,
   "metadata": {},
   "outputs": [],
   "source": [
    "from pypeduct import pyped\n",
    "\n",
    "def increment_func(x):\n",
    "    return x + 1\n",
    "\n",
    "@pyped\n",
    "def user_func_ref_pipeline(x):\n",
    "    return x >> increment_func >> increment_func\n",
    "\n",
    "print(user_func_ref_pipeline(5))  # Output: 7"
   ]
  },
  {
   "cell_type": "markdown",
   "metadata": {},
   "source": [
    "### Example 10: Ternary Operator"
   ]
  },
  {
   "cell_type": "code",
   "execution_count": null,
   "metadata": {},
   "outputs": [],
   "source": [
    "from pypeduct import pyped\n",
    "\n",
    "@pyped\n",
    "def ternary_operator(x: int) -> int:\n",
    "    return x >> ((lambda y: y + 1) if x % 2 == 0 else (lambda y: y - 1))\n",
    "\n",
    "print(ternary_operator(1))  # Output: 0\n",
    "print(ternary_operator(2))  # Output: 3"
   ]
  },
  {
   "cell_type": "markdown",
   "metadata": {},
   "source": [
    "### Example 11: Binary Shift vs Pipe"
   ]
  },
  {
   "cell_type": "code",
   "execution_count": null,
   "metadata": {},
   "outputs": [],
   "source": [
    "from pypeduct import pyped\n",
    "import pytest\n",
    "\n",
    "@pyped\n",
    "def binary_shift_right_with_pipe(x: int) -> int:\n",
    "    return x >> 2\n",
    "\n",
    "def binary_shift_right_without_pipe(x: int) -> int:\n",
    "    return x >> 2\n",
    "\n",
    "@pyped\n",
    "def binary_shift_left_with_pipe(x: int) -> int:\n",
    "    return x << 2\n",
    "\n",
    "def binary_shift_left_without_pipe(x: int) -> int:\n",
    "    return x << 2\n",
    "\n",
    "with pytest.raises(TypeError):\n",
    "    binary_shift_right_with_pipe(5)\n",
    "\n",
    "print(binary_shift_right_without_pipe(5))  # Output: 1\n",
    "print(binary_shift_left_with_pipe(5))  # Output: 20"
   ]
  },
  {
   "cell_type": "markdown",
   "metadata": {},
   "source": [
    "### Example 12: Complex Types"
   ]
  },
  {
   "cell_type": "code",
   "execution_count": null,
   "metadata": {},
   "outputs": [],
   "source": [
    "from pypeduct import pyped\n",
    "\n",
    "@pyped\n",
    "def complex_pipe() -> tuple[str, int, int]:\n",
    "    a: list[int] = [1, 2, 3]\n",
    "    b: dict[str, int] = {\"a\": 1}\n",
    "    c: tuple[int, int, int] = (1, 2, 3)\n",
    "    return a >> len >> str, b >> len, c >> len\n",
    "\n",
    "print(complex_pipe())  # Output: (\"3\", 1, 3)"
   ]
  },
  {
   "cell_type": "markdown",
   "metadata": {},
   "source": [
    "### Example 13: Pipeline Inside Comprehension"
   ]
  },
  {
   "cell_type": "code",
   "execution_count": null,
   "metadata": {},
   "outputs": [],
   "source": [
    "from pypeduct import pyped\n",
    "\n",
    "@pyped\n",
    "def pipeline_function(x: int) -> list[str]:\n",
    "    return [i >> (lambda x: x**2) >> str for i in range(5)]\n",
    "\n",
    "print(pipeline_function(5))  # Output: [\"0\", \"1\", \"4\", \"9\", \"16\"]"
   ]
  },
  {
   "cell_type": "markdown",
   "metadata": {},
   "source": [
    "### Example 14: Right Shift Operator"
   ]
  },
  {
   "cell_type": "code",
   "execution_count": null,
   "metadata": {},
   "outputs": [],
   "source": [
    "from pypeduct import pyped\n",
    "\n",
    "@pyped\n",
    "def rshift_pipe() -> str:\n",
    "    def wrap(text: str) -> str:\n",
    "        return f\"<text}\"\n",
    "\n",
    "    result: str = \"content\" >> wrap\n",
    "    return result\n",
    "\n",
    "print(rshift_pipe())  # Output: <content>"
   ]
  },
  {
   "cell_type": "markdown",
   "metadata": {},
   "source": [
    "### Example 15: Nested @pyped"
   ]
  },
  {
   "cell_type": "code",
   "execution_count": null,
   "metadata": {},
   "outputs": [],
   "source": [
    "from pypeduct import pyped\n",
    "\n",
    "@pyped\n",
    "def nested_pyped() -> int:\n",
    "    result: int = (5 >> (lambda x: x + 2)) >> (lambda x: x * 3)\n",
    "    return result\n",
    "\n",
    "print(nested_pyped())  # Output: 21"
   ]
  },
  {
   "cell_type": "markdown",
   "metadata": {},
   "source": [
    "### Example 16: Complex Expression Pipe"
   ]
  },
  {
   "cell_type": "code",
   "execution_count": null,
   "metadata": {},
   "outputs": [],
   "source": [
    "from pypeduct import pyped\n",
    "\n",
    "@pyped\n",
    "def complex_expression_pipe() -> int:\n",
    "    expr: int = (2 + 3) * 4\n",
    "    result: int = expr >> (lambda x: x - 5)\n",
    "    return result\n",
    "\n",
    "print(complex_expression_pipe())  # Output: 15"
   ]
  },
  {
   "cell_type": "markdown",
   "metadata": {},
   "source": [
    "### Example 17: Exception Handling in Pipe"
   ]
  },
  {
   "cell_type": "code",
   "execution_count": null,
   "metadata": {},
   "outputs": [],
   "source": [
    "from pypeduct import pyped\n",
    "import pytest\n",
    "\n",
    "@pyped\n",
    "def exception_pipe() -> int:\n",
    "    result: int = \"test\" >> int\n",
    "    return result\n",
    "\n",
    "with pytest.raises(ValueError):\n",
    "    exception_pipe()"
   ]
  },
  {
   "cell_type": "markdown",
   "metadata": {},
   "source": [
    "### Example 18: Pipe with Generator Expression"
   ]
  },
  {
   "cell_type": "code",
   "execution_count": null,
   "metadata": {},
   "outputs": [],
   "source": [
    "from pypeduct import pyped\n",
    "\n",
    "@pyped\n",
    "def generator_pipe() -> list[int]:\n",
    "    def square(x: int) -> int:\n",
    "        return x * x\n",
    "\n",
    "    gen = (i for i in range(5))\n",
    "    result: list[int] = list(gen) >> (lambda lst: [square(x) for x in lst])\n",
    "    return result\n",
    "\n",
    "print(generator_pipe())  # Output: [0, 1, 4, 9, 16]"
   ]
  },
  {
   "cell_type": "markdown",
   "metadata": {},
   "source": [
    "### Example 19: Variable Scope in Exec"
   ]
  },
  {
   "cell_type": "code",
   "execution_count": null,
   "metadata": {},
   "outputs": [],
   "source": [
    "from pypeduct import pyped\n",
    "\n",
    "@pyped\n",
    "def context_test() -> str:\n",
    "    var: str = \"hello\"\n",
    "    result: str = var >> str.upper\n",
    "    return result\n",
    "\n",
    "print(context_test())  # Output: HELLO"
   ]
  },
  {
   "cell_type": "markdown",
   "metadata": {},
   "source": [
    "### Example 20: Pipe with Lambda"
   ]
  },
  {
   "cell_type": "code",
   "execution_count": null,
   "metadata": {},
   "outputs": [],
   "source": [
    "from pypeduct import pyped\n",
    "\n",
    "@pyped\n",
    "def lambda_test() -> int:\n",
    "    result: int = 5 >> (lambda x: x * x)\n",
    "    return result\n",
    "\n",
    "print(lambda_test())  # Output: 25"
   ]
  },
  {
   "cell_type": "markdown",
   "metadata": {},
   "source": [
    "## Conclusion\n",
    "\n",
    "This guide provided a basic overview of how to use PyPeduct. For more detailed information, please refer to the official documentation."
   ]
  }
 ],
 "metadata": {
  "language_info": {
   "name": "python"
  }
 },
 "nbformat": 4,
 "nbformat_minor": 2
}
